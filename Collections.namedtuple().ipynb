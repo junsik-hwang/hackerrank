{
 "cells": [
  {
   "cell_type": "code",
   "execution_count": null,
   "metadata": {},
   "outputs": [],
   "source": [
    "n = int(input())\n",
    "arr = []; answer = 0\n",
    "for i in range(n+1):\n",
    "    arr.append(list(map(str,input().split())))\n",
    "\n",
    "\n",
    "pos = arr[0].index('MARKS')\n",
    "\n",
    "for i in range(1, n+1):\n",
    "    answer += float(arr[i][pos])\n",
    "\n",
    "print(answer/n)"
   ]
  }
 ],
 "metadata": {
  "kernelspec": {
   "display_name": "Python 3",
   "language": "python",
   "name": "python3"
  },
  "language_info": {
   "codemirror_mode": {
    "name": "ipython",
    "version": 3
   },
   "file_extension": ".py",
   "mimetype": "text/x-python",
   "name": "python",
   "nbconvert_exporter": "python",
   "pygments_lexer": "ipython3",
   "version": "3.7.3"
  }
 },
 "nbformat": 4,
 "nbformat_minor": 2
}
